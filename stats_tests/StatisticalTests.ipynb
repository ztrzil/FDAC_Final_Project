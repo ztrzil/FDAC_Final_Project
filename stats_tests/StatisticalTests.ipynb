{
 "cells": [
  {
   "cell_type": "code",
   "execution_count": 16,
   "metadata": {
    "collapsed": true
   },
   "outputs": [],
   "source": [
    "import pandas as pd\n",
    "import numpy as np\n",
    "import scipy.stats as stats\n",
    "from scipy.special import logit as logit"
   ]
  },
  {
   "cell_type": "code",
   "execution_count": 2,
   "metadata": {},
   "outputs": [
    {
     "name": "stdout",
     "output_type": "stream",
     "text": [
      "         CID  ClusterID\n",
      "0  N00028958          0\n",
      "1  N00027860          1\n",
      "2  N00031681          0\n",
      "3  N00035825          2\n",
      "4  N00027509          1\n",
      "   personID  vote party        CID  BillID\n",
      "0    400004     0     R  N00003028       3\n",
      "1    400018     0     R  N00005656       3\n",
      "2    400021     1     D  N00009774       3\n",
      "3    400029     2     R  N00025292       3\n",
      "5    400032     0     R  N00003105       3\n",
      "Index(['personID', 'vote', 'party', 'CID', 'BillID'], dtype='object')\n"
     ]
    }
   ],
   "source": [
    "cluster = pd.read_csv(\"../PoliticianCluster.csv\")\n",
    "voting = pd.read_csv(\"../VotingRecord.csv\", na_values=['?'])\n",
    "voting = voting.dropna(axis=0)\n",
    "voting.columns = ['personID', 'vote', 'party', 'CID', 'BillID']\n",
    "print(cluster.head())\n",
    "print(voting.head())\n",
    "print(voting.columns)\n",
    "voting = voting[voting['CID'].isin(cluster['CID'])]"
   ]
  },
  {
   "cell_type": "code",
   "execution_count": null,
   "metadata": {
    "collapsed": true
   },
   "outputs": [],
   "source": []
  },
  {
   "cell_type": "code",
   "execution_count": 14,
   "metadata": {},
   "outputs": [
    {
     "name": "stdout",
     "output_type": "stream",
     "text": [
      "Clusters without a vote:  0\n",
      "Clusters with all `NO` votes:  23\n",
      "Votes:  2106\n"
     ]
    }
   ],
   "source": [
    "# A list of all bill ids\n",
    "bill_id_list = voting['BillID'].unique()\n",
    "# A list of our distinc donation profile clusters\n",
    "cluster_id_list = cluster['ClusterID'].unique()\n",
    "cluster_id_dict = {row['CID']: row['ClusterID'] for idx, row in cluster.iterrows()}\n",
    "voting['ClusterID'] = voting['CID'].apply(lambda x: cluster_id_dict[x])\n",
    "# A list of lists, where the ith list and jth entry is the \n",
    "# average vote of the ith cluster on jth bill\n",
    "nan_count = 0\n",
    "zero_count = 0\n",
    "total_count = 0\n",
    "\n",
    "def nan_to_neutral(val):\n",
    "    global total_count\n",
    "    global nan_count\n",
    "    global zero_count\n",
    "    total_count += 1\n",
    "    if np.isnan(val):\n",
    "        nan_count += 1\n",
    "        print(1)\n",
    "        return 0.5\n",
    "    if val == 0:\n",
    "        zero_count += 1\n",
    "        return 0.001\n",
    "    return val\n",
    "\n",
    "cluster_voting = [[nan_to_neutral(np.mean(voting['vote'][(voting['BillID'] == bill_id) & (voting['ClusterID'] == cluster_id)])) for bill_id in bill_id_list] for cluster_id in cluster_id_list]\n",
    "print(\"Clusters without a vote: \", nan_count)\n",
    "print(\"Clusters with all `NO` votes: \", zero_count)\n",
    "print(\"Votes: \", total_count)\n"
   ]
  },
  {
   "cell_type": "markdown",
   "metadata": {},
   "source": [
    "## Does Donation Profile have Predictive Potential on Voting Record\n",
    "Our central question is whether or not the pattern of donations recieved by a candidate has any measurable impact or correlation with their voting record. We'll first try this with a paired t-test; basically what were saying here is that voting clusters are \"treatments\" or our explanatory categorical variable, and we're asking if the difference in voting record between clusters could be due to chance. The paired t-test looks at each matchup (in this case each chance to vote) and determines the probability that the values are drawn from the same distribution (techincally this assumes a normal distribution, but hey, no test is perfect)."
   ]
  },
  {
   "cell_type": "code",
   "execution_count": 6,
   "metadata": {},
   "outputs": [
    {
     "data": {
      "text/plain": [
       "array([[             nan,   5.10779906e-05,   4.11646508e-14],\n",
       "       [  5.10779906e-05,              nan,   3.73281923e-12],\n",
       "       [  4.11646508e-14,   3.73281923e-12,              nan]])"
      ]
     },
     "execution_count": 6,
     "metadata": {},
     "output_type": "execute_result"
    }
   ],
   "source": [
    "t_test_pv = np.empty((3, 3))\n",
    "for i, cvl1 in enumerate(cluster_voting):\n",
    "    for j, cvl2 in enumerate(cluster_voting):\n",
    "        t_test_pv[i][j] = stats.ttest_rel(cvl1, cvl2)[1]\n",
    "\n",
    "t_test_pv"
   ]
  },
  {
   "cell_type": "markdown",
   "metadata": {},
   "source": [
    "Our highest p-value is ~0.00005108 which means there is a very low probability the behavior is fundamentally similar."
   ]
  },
  {
   "cell_type": "code",
   "execution_count": 19,
   "metadata": {},
   "outputs": [
    {
     "name": "stdout",
     "output_type": "stream",
     "text": [
      "[[   0.  653.  634.]\n",
      " [ 653.    0.  675.]\n",
      " [ 634.  675.    0.]]\n",
      "[[ 0.          0.93019943  0.9031339 ]\n",
      " [ 0.93019943  0.          0.96153846]\n",
      " [ 0.9031339   0.96153846  0.        ]]\n",
      "702\n"
     ]
    }
   ],
   "source": [
    "significant = np.zeros((3, 3))\n",
    "total = len(cluster_voting[0])\n",
    "for i in range(len(cluster_voting[0])):\n",
    "    votes = [cluster_voting[j][i] for j in range(3)]\n",
    "    for a, votea in enumerate(votes):\n",
    "        for b, voteb in enumerate(votes):\n",
    "            if a != b:\n",
    "                if np.abs(logit(votea) - logit(voteb)) > 0.05:\n",
    "                    significant[a][b] += 1\n",
    "print(significant)\n",
    "print(significant / total)\n",
    "print(total)\n",
    "    \n",
    "    \n",
    "    "
   ]
  },
  {
   "cell_type": "markdown",
   "metadata": {},
   "source": [
    "Here we can see that at minimum, 90.3% of our votes show statistically significant differences. Because our alpha value threshold was 0.05, we would expect a false positive 5% of the time. Because the rate of statistical significance is far higher than 5%, we can be relatively confident that there are real differences."
   ]
  }
 ],
 "metadata": {
  "kernelspec": {
   "display_name": "Python [conda root]",
   "language": "python",
   "name": "conda-root-py"
  },
  "language_info": {
   "codemirror_mode": {
    "name": "ipython",
    "version": 3
   },
   "file_extension": ".py",
   "mimetype": "text/x-python",
   "name": "python",
   "nbconvert_exporter": "python",
   "pygments_lexer": "ipython3",
   "version": "3.5.2"
  }
 },
 "nbformat": 4,
 "nbformat_minor": 2
}
